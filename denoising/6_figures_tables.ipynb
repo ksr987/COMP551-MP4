{
 "cells": [
  {
   "cell_type": "code",
   "execution_count": null,
   "metadata": {
    "ExecuteTime": {
     "end_time": "2019-04-11T15:44:14.314245Z",
     "start_time": "2019-04-11T15:44:12.153052Z"
    }
   },
   "outputs": [],
   "source": [
    "import util%\n",
    "import numpy as np\n",
    "import pandas as pd\n",
    "import matplotlib.pyplot as plt\n",
    "import seaborn as sns\n",
    "import os\n",
    "from os.path import join as pj\n",
    "from os.path import split as ps\n",
    "from tifffile import imread\n",
    "from skimage.restoration import denoise_nl_means, estimate_sigma\n",
    "from csbdeep.data import Normalizer, PercentileNormalizer\n",
    "\n",
    "%matplotlib inline\n",
    "\n",
    "from glob import glob\n",
    "\n",
    "import re"
   ]
  },
  {
   "cell_type": "markdown",
   "metadata": {
    "heading_collapsed": true
   },
   "source": [
    "# Tables\n",
    "\n",
    "## Consolidate summary csvs"
   ]
  },
  {
   "cell_type": "code",
   "execution_count": 133,
   "metadata": {
    "ExecuteTime": {
     "end_time": "2019-04-11T19:15:03.643751Z",
     "start_time": "2019-04-11T19:15:03.468068Z"
    },
    "code_folding": [],
    "hidden": true
   },
   "outputs": [],
   "source": [
    "def consolidate_tables(ddir, outfile):\n",
    "    df_ls = [pd.read_csv(f) for f in glob(pj(ddir, '*summary.csv'))]\n",
    "    df_ls = [pd.concat(df_ls, ignore_index=True).drop_duplicates()]\n",
    "    df_ls.append(df_ls.append(pd.read_csv(pj(ddir, 'paper_results.csv'))))\n",
    "\n",
    "    for df, x in zip(df_ls, ['replication', 'original']):\n",
    "        df['study'] = x \n",
    "\n",
    "    df = pd.concat(df_ls,  sort=True)\n",
    "    # drop the dates form model names\n",
    "    df['output'] = [re.split('\\d{4}-\\d{2}-\\d{2}-', o)[-1] for o in df['output']]\n",
    "    df.to_csv(outfile, index=False, float_format='%.5f')\n",
    "\n",
    "\n",
    "outs = ['tables/planaria_test_data_summary.csv', 'tables/beetle_test_data_summary.csv']\n",
    "ddirs = ['planaria_results', 'beetle_results']\n",
    "\n",
    "for ddir, out in zip(ddirs, outs):\n",
    "    consolidate_tables(ddir, out)\n"
   ]
  },
  {
   "cell_type": "markdown",
   "metadata": {
    "heading_collapsed": true,
    "hidden": true
   },
   "source": [
    "## Cosolidate raw csvs"
   ]
  },
  {
   "cell_type": "code",
   "execution_count": 128,
   "metadata": {
    "ExecuteTime": {
     "end_time": "2019-04-11T19:11:15.140127Z",
     "start_time": "2019-04-11T19:11:14.978152Z"
    },
    "code_folding": [],
    "hidden": true
   },
   "outputs": [],
   "source": [
    "def consolidate_tables(ddir, outfile):\n",
    "    df_ls = [pd.read_csv(f) for f in glob(pj(ddir, '*raw.csv'))]\n",
    "    df_ls = [pd.concat(df_ls, ignore_index=True).drop_duplicates()]\n",
    "#     df_ls.append(df_ls.append(pd.read_csv(pj(ddir, 'paper_results.csv'))))\n",
    "\n",
    "    for df, x in zip(df_ls, ['replication', 'original']):\n",
    "        df['study'] = x \n",
    "\n",
    "    df = pd.concat(df_ls,  sort=True)\n",
    "    # drop the dates form model names\n",
    "    df['output'] = [re.split('\\d{4}-\\d{2}-\\d{2}-', o)[-1] for o in df['output']]\n",
    "    df.to_csv(outfile, index=False)\n",
    "\n",
    "\n",
    "outs = ['tables/planaria_test_data_raw.csv', 'tables/beetle_test_data_raw.csv']\n",
    "ddirs = ['planaria_results', 'beetle_results']\n",
    "\n",
    "for ddir, out in zip(ddirs, outs):\n",
    "    consolidate_tables(ddir, out)\n"
   ]
  },
  {
   "cell_type": "markdown",
   "metadata": {
    "hidden": true
   },
   "source": [
    "## Write RMSE and SSIM wide tables"
   ]
  },
  {
   "cell_type": "code",
   "execution_count": 103,
   "metadata": {
    "ExecuteTime": {
     "end_time": "2019-04-11T18:29:54.430075Z",
     "start_time": "2019-04-11T18:29:54.381246Z"
    },
    "hidden": true
   },
   "outputs": [],
   "source": [
    "def _write_wide_tables(df, table_out):\n",
    "    df = pd.pivot_table(df, columns=['metric', 'output'], index='condition')\n",
    "    df.columns = df.columns.droplevel()\n",
    "    df.to_csv(table_out)\n",
    "    \n",
    "long = ['tables/planaria_test_data_summary.csv', 'tables/beetle_test_data_summary.csv']\n",
    "df_ls = [pd.read_csv(f) for f in long]\n",
    "wide = ['tables/planaria_wide.csv', 'tables/beetle_wide.csv']\n",
    "\n",
    "for df, name in zip(df_ls, wide):\n",
    "    _write_wide_tables(df, name)\n"
   ]
  },
  {
   "cell_type": "code",
   "execution_count": 104,
   "metadata": {
    "ExecuteTime": {
     "end_time": "2019-04-11T18:54:20.643930Z",
     "start_time": "2019-04-11T18:54:20.578531Z"
    },
    "hidden": true
   },
   "outputs": [
    {
     "data": {
      "text/html": [
       "<div>\n",
       "<style scoped>\n",
       "    .dataframe tbody tr th:only-of-type {\n",
       "        vertical-align: middle;\n",
       "    }\n",
       "\n",
       "    .dataframe tbody tr th {\n",
       "        vertical-align: top;\n",
       "    }\n",
       "\n",
       "    .dataframe thead tr th {\n",
       "        text-align: left;\n",
       "    }\n",
       "\n",
       "    .dataframe thead tr:last-of-type th {\n",
       "        text-align: right;\n",
       "    }\n",
       "</style>\n",
       "<table border=\"1\" class=\"dataframe\">\n",
       "  <thead>\n",
       "    <tr>\n",
       "      <th>metric</th>\n",
       "      <th colspan=\"5\" halign=\"left\">rmse</th>\n",
       "      <th colspan=\"5\" halign=\"left\">ssim</th>\n",
       "    </tr>\n",
       "    <tr>\n",
       "      <th>output</th>\n",
       "      <th>input</th>\n",
       "      <th>paper_input</th>\n",
       "      <th>paper_network</th>\n",
       "      <th>planaria-1</th>\n",
       "      <th>planaria-3</th>\n",
       "      <th>input</th>\n",
       "      <th>paper_input</th>\n",
       "      <th>paper_network</th>\n",
       "      <th>planaria-1</th>\n",
       "      <th>planaria-3</th>\n",
       "    </tr>\n",
       "    <tr>\n",
       "      <th>condition</th>\n",
       "      <th></th>\n",
       "      <th></th>\n",
       "      <th></th>\n",
       "      <th></th>\n",
       "      <th></th>\n",
       "      <th></th>\n",
       "      <th></th>\n",
       "      <th></th>\n",
       "      <th></th>\n",
       "      <th></th>\n",
       "    </tr>\n",
       "  </thead>\n",
       "  <tbody>\n",
       "    <tr>\n",
       "      <th>condition_1</th>\n",
       "      <td>0.21048</td>\n",
       "      <td>0.08384</td>\n",
       "      <td>0.03768</td>\n",
       "      <td>0.02868</td>\n",
       "      <td>0.02895</td>\n",
       "      <td>0.11773</td>\n",
       "      <td>0.21176</td>\n",
       "      <td>0.70774</td>\n",
       "      <td>0.90556</td>\n",
       "      <td>0.90007</td>\n",
       "    </tr>\n",
       "    <tr>\n",
       "      <th>condition_2</th>\n",
       "      <td>0.26055</td>\n",
       "      <td>0.08818</td>\n",
       "      <td>0.03942</td>\n",
       "      <td>0.03607</td>\n",
       "      <td>0.03662</td>\n",
       "      <td>0.08548</td>\n",
       "      <td>0.17071</td>\n",
       "      <td>0.70803</td>\n",
       "      <td>0.84428</td>\n",
       "      <td>0.87815</td>\n",
       "    </tr>\n",
       "    <tr>\n",
       "      <th>condition_3</th>\n",
       "      <td>0.34852</td>\n",
       "      <td>0.09103</td>\n",
       "      <td>0.04780</td>\n",
       "      <td>0.05468</td>\n",
       "      <td>0.05514</td>\n",
       "      <td>0.05303</td>\n",
       "      <td>0.14415</td>\n",
       "      <td>0.60972</td>\n",
       "      <td>0.65758</td>\n",
       "      <td>0.68133</td>\n",
       "    </tr>\n",
       "  </tbody>\n",
       "</table>\n",
       "</div>"
      ],
      "text/plain": [
       "metric          rmse                                                     ssim  \\\n",
       "output         input paper_input paper_network planaria-1 planaria-3    input   \n",
       "condition                                                                       \n",
       "condition_1  0.21048     0.08384       0.03768    0.02868    0.02895  0.11773   \n",
       "condition_2  0.26055     0.08818       0.03942    0.03607    0.03662  0.08548   \n",
       "condition_3  0.34852     0.09103       0.04780    0.05468    0.05514  0.05303   \n",
       "\n",
       "metric                                                       \n",
       "output      paper_input paper_network planaria-1 planaria-3  \n",
       "condition                                                    \n",
       "condition_1     0.21176       0.70774    0.90556    0.90007  \n",
       "condition_2     0.17071       0.70803    0.84428    0.87815  \n",
       "condition_3     0.14415       0.60972    0.65758    0.68133  "
      ]
     },
     "execution_count": 104,
     "metadata": {},
     "output_type": "execute_result"
    }
   ],
   "source": [
    "df_ls = [pd.read_csv(f) for f in ['tables/planaria_test_data_summary.csv',\n",
    "                                  'tables/beetle_test_data_summary.csv']]\n",
    "df = df_ls[0]\n",
    "df = df.drop('std', axis=1)\n",
    "\n",
    "outputs = ['planaria-1', 'planaria-3']\n",
    "_outputs = ['input'] + outputs + ['paper_input', 'paper_network']\n",
    "\n",
    "df = df[df['output'].isin(_outputs)]\n",
    "\n",
    "df = pd.pivot_table(df, columns=['metric', 'output'], index='condition')\n",
    "df.columns = df.columns.droplevel()\n",
    "df.head()\n"
   ]
  },
  {
   "cell_type": "markdown",
   "metadata": {},
   "source": [
    "# Plots"
   ]
  },
  {
   "cell_type": "markdown",
   "metadata": {},
   "source": [
    "## Graphs"
   ]
  },
  {
   "cell_type": "code",
   "execution_count": 106,
   "metadata": {
    "ExecuteTime": {
     "end_time": "2019-04-11T18:56:15.720774Z",
     "start_time": "2019-04-11T18:56:15.690134Z"
    }
   },
   "outputs": [
    {
     "data": {
      "text/html": [
       "<div>\n",
       "<style scoped>\n",
       "    .dataframe tbody tr th:only-of-type {\n",
       "        vertical-align: middle;\n",
       "    }\n",
       "\n",
       "    .dataframe tbody tr th {\n",
       "        vertical-align: top;\n",
       "    }\n",
       "\n",
       "    .dataframe thead th {\n",
       "        text-align: right;\n",
       "    }\n",
       "</style>\n",
       "<table border=\"1\" class=\"dataframe\">\n",
       "  <thead>\n",
       "    <tr style=\"text-align: right;\">\n",
       "      <th></th>\n",
       "      <th>condition</th>\n",
       "      <th>mean</th>\n",
       "      <th>metric</th>\n",
       "      <th>output</th>\n",
       "      <th>std</th>\n",
       "      <th>study</th>\n",
       "    </tr>\n",
       "  </thead>\n",
       "  <tbody>\n",
       "    <tr>\n",
       "      <th>0</th>\n",
       "      <td>condition_1</td>\n",
       "      <td>0.06538</td>\n",
       "      <td>rmse</td>\n",
       "      <td>beetle-1</td>\n",
       "      <td>0.01124</td>\n",
       "      <td>replication</td>\n",
       "    </tr>\n",
       "    <tr>\n",
       "      <th>1</th>\n",
       "      <td>condition_1</td>\n",
       "      <td>0.60107</td>\n",
       "      <td>ssim</td>\n",
       "      <td>beetle-1</td>\n",
       "      <td>0.06290</td>\n",
       "      <td>replication</td>\n",
       "    </tr>\n",
       "    <tr>\n",
       "      <th>2</th>\n",
       "      <td>condition_1</td>\n",
       "      <td>0.17660</td>\n",
       "      <td>rmse</td>\n",
       "      <td>nlm</td>\n",
       "      <td>0.04909</td>\n",
       "      <td>replication</td>\n",
       "    </tr>\n",
       "    <tr>\n",
       "      <th>3</th>\n",
       "      <td>condition_1</td>\n",
       "      <td>0.29578</td>\n",
       "      <td>ssim</td>\n",
       "      <td>nlm</td>\n",
       "      <td>0.12494</td>\n",
       "      <td>replication</td>\n",
       "    </tr>\n",
       "    <tr>\n",
       "      <th>4</th>\n",
       "      <td>condition_1</td>\n",
       "      <td>0.02868</td>\n",
       "      <td>rmse</td>\n",
       "      <td>planaria-1</td>\n",
       "      <td>0.00553</td>\n",
       "      <td>replication</td>\n",
       "    </tr>\n",
       "  </tbody>\n",
       "</table>\n",
       "</div>"
      ],
      "text/plain": [
       "     condition     mean metric      output      std        study\n",
       "0  condition_1  0.06538   rmse    beetle-1  0.01124  replication\n",
       "1  condition_1  0.60107   ssim    beetle-1  0.06290  replication\n",
       "2  condition_1  0.17660   rmse         nlm  0.04909  replication\n",
       "3  condition_1  0.29578   ssim         nlm  0.12494  replication\n",
       "4  condition_1  0.02868   rmse  planaria-1  0.00553  replication"
      ]
     },
     "execution_count": 106,
     "metadata": {},
     "output_type": "execute_result"
    }
   ],
   "source": [
    "df_ls = [pd.read_csv(f) for f in ['tables/planaria_test_data_summary.csv',\n",
    "                                  'tables/beetle_test_data_summary.csv']]\n",
    "df = df_ls[0]\n",
    "df.head()"
   ]
  },
  {
   "cell_type": "markdown",
   "metadata": {},
   "source": [
    "## Using summary"
   ]
  },
  {
   "cell_type": "code",
   "execution_count": 145,
   "metadata": {
    "ExecuteTime": {
     "end_time": "2019-04-11T19:23:36.686847Z",
     "start_time": "2019-04-11T19:23:35.800535Z"
    }
   },
   "outputs": [
    {
     "data": {
      "image/png": "[encoded data removed]",
      "text/plain": [
       "<Figure size 830.25x360 with 2 Axes>"
      ]
     },
     "metadata": {
      "needs_background": "light"
     },
     "output_type": "display_data"
    },
    {
     "data": {
      "image/png": "[encoded data removed]",
      "text/plain": [
       "<Figure size 830.25x360 with 2 Axes>"
      ]
     },
     "metadata": {
      "needs_background": "light"
     },
     "output_type": "display_data"
    }
   ],
   "source": [
    "df_ls = [pd.read_csv(f) for f in ['tables/planaria_test_data_summary.csv',\n",
    "                                  'tables/beetle_test_data_summary.csv']]\n",
    "no = ['planaria-4']\n",
    "\n",
    "df_ls = [df[~df['output'].isin(no)] for df in df_ls]\n",
    "\n",
    "for df, name in zip(df_ls, ['Planaria Test Data', 'Beetle Test Data']):\n",
    "    cols = df['output'].unique()\n",
    "    pop = ['input', 'paper_input']\n",
    "    cols = [x for x in sorted(cols) if x not in pop + ['nlm', 'paper_network']]\n",
    "    cols = pop + cols + ['paper_network']\n",
    "\n",
    "\n",
    "    g = sns.catplot(x='condition', y='mean', hue='output', \n",
    "                    kind='bar',\n",
    "                    col='metric',\n",
    "                    hue_order=cols,\n",
    "                    sharey=False, data=df)\n",
    "    \n",
    "    g.axes[0,1].set_ylim(0,1)\n",
    "    g.axes[0,0].set_title('RMSE')\n",
    "    g.axes[0,1].set_title('SSIM')\n",
    "    g.fig.suptitle(name)"
   ]
  },
  {
   "cell_type": "markdown",
   "metadata": {
    "heading_collapsed": true
   },
   "source": [
    "## Using raw\n",
    "(+ paper data, so no variance there)"
   ]
  },
  {
   "cell_type": "code",
   "execution_count": 129,
   "metadata": {
    "ExecuteTime": {
     "end_time": "2019-04-11T19:11:28.226836Z",
     "start_time": "2019-04-11T19:11:27.625634Z"
    },
    "hidden": true
   },
   "outputs": [
    {
     "data": {
      "image/png": "[encoded data removed]",
      "text/plain": [
       "<Figure size 815.625x360 with 2 Axes>"
      ]
     },
     "metadata": {
      "needs_background": "light"
     },
     "output_type": "display_data"
    }
   ],
   "source": [
    "df_ls = [pd.read_csv(f) for f in ['tables/planaria_test_data_raw.csv',\n",
    "                                  'tables/beetle_test_data_raw.csv']]\n",
    "df = df_ls[0]\n",
    "\n",
    "cols = df['output'].unique()\n",
    "pop = ['input', 'paper_input']\n",
    "cols = [x for x in cols if x not in pop + ['nlm']]\n",
    "cols = pop + cols\n",
    "\n",
    "\n",
    "g = sns.catplot(x='condition', y='value', hue='output', \n",
    "                kind='box',\n",
    "                col='metric',\n",
    "                hue_order=cols,\n",
    "                sharey=False, data=df)\n"
   ]
  },
  {
   "cell_type": "code",
   "execution_count": null,
   "metadata": {
    "hidden": true
   },
   "outputs": [],
   "source": []
  }
 ],
 "metadata": {
  "kernelspec": {
   "display_name": "Python 3",
   "language": "python",
   "name": "python3"
  },
  "language_info": {
   "codemirror_mode": {
    "name": "ipython",
    "version": 3
   },
   "file_extension": ".py",
   "mimetype": "text/x-python",
   "name": "python",
   "nbconvert_exporter": "python",
   "pygments_lexer": "ipython3",
   "version": "3.6.5"
  },
  "toc": {
   "base_numbering": 1,
   "nav_menu": {},
   "number_sections": true,
   "sideBar": false,
   "skip_h1_title": false,
   "title_cell": "Table of Contents",
   "title_sidebar": "Contents",
   "toc_cell": false,
   "toc_position": {
    "height": "193px",
    "left": "1289px",
    "top": "55.5667px",
    "width": "243px"
   },
   "toc_section_display": false,
   "toc_window_display": true
  }
 },
 "nbformat": 4,
 "nbformat_minor": 2
}
